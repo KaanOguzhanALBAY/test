{
 "cells": [
  {
   "cell_type": "markdown",
   "id": "8ab3c502-2049-4d79-bbe7-5871af8b89bb",
   "metadata": {},
   "source": [
    "# Data Science Tools and Ecosystem"
   ]
  },
  {
   "cell_type": "markdown",
   "id": "87dae3f6-634d-40b2-874c-66a264384ca7",
   "metadata": {},
   "source": [
    "In this notebook, Data Science Tools and Ecosystem are summarized."
   ]
  },
  {
   "cell_type": "markdown",
   "id": "e17e09f3-97c1-4242-99f1-60c29870454f",
   "metadata": {},
   "source": [
    " **Objectives:** \n",
    " * List popular languages for Data Science\n",
    " * List of commonly used libraries for Data Science\n",
    " * Some arithmetic calculations\n"
   ]
  },
  {
   "cell_type": "markdown",
   "id": "d3009063-883e-462d-9228-4a6ffd9606b4",
   "metadata": {},
   "source": [
    "Some of the popular languages that Data Scientists use are:"
   ]
  },
  {
   "cell_type": "markdown",
   "id": "583637bd-51e9-42d0-8ffb-730279d7456e",
   "metadata": {},
   "source": [
    "1. Julia\n",
    "2. R\n",
    "3. Python\n"
   ]
  },
  {
   "cell_type": "markdown",
   "id": "de011d08-c686-437f-aefc-9fd936584bfb",
   "metadata": {},
   "source": [
    "Some of the commonly used libraries used by Data Scientists include:"
   ]
  },
  {
   "cell_type": "markdown",
   "id": "7bcd4cf8-71f3-4499-8cb4-b185f44b0c92",
   "metadata": {},
   "source": [
    "1. Tidyverse\n",
    "2. Pandas\n",
    "3. Matplotlib"
   ]
  },
  {
   "cell_type": "markdown",
   "id": "16f0c8e4-3f4c-4288-8119-b8d7d7533d4f",
   "metadata": {},
   "source": [
    "df['Data'Science_Tools'] = Python"
   ]
  },
  {
   "cell_type": "markdown",
   "id": "cc4b0a50-ebe9-4066-b3c1-8003d661c44e",
   "metadata": {},
   "source": [
    " | Column 1 |\n",
    " |----------|\n",
    " | RStudio| \n",
    " | Apache Spark|\n",
    " | TensorFlow|\n"
   ]
  },
  {
   "cell_type": "markdown",
   "id": "e2e102d9-f9bc-4f0b-9251-5a3a1252a6f7",
   "metadata": {},
   "source": [
    "### Below are a few examples of evaluating arithmetic expressions in Python"
   ]
  },
  {
   "cell_type": "markdown",
   "id": "53453cdd-0418-4980-a18e-233bbd917234",
   "metadata": {},
   "source": [
    "This a simple arithmetic expression to mutiply then add integers"
   ]
  },
  {
   "cell_type": "code",
   "execution_count": 5,
   "id": "13c65f92-0f6e-4022-b3ca-1a86ac32387b",
   "metadata": {},
   "outputs": [
    {
     "data": {
      "text/plain": [
       "17"
      ]
     },
     "execution_count": 5,
     "metadata": {},
     "output_type": "execute_result"
    }
   ],
   "source": [
    "(3*4)+5"
   ]
  },
  {
   "cell_type": "markdown",
   "id": "09652515-ef81-4bc7-b2bb-df479acfdf84",
   "metadata": {},
   "source": [
    "This will convert 200 minutes to hours by diving by 60"
   ]
  },
  {
   "cell_type": "code",
   "execution_count": 6,
   "id": "b7bc9fcb-166f-4f0a-bb0a-094c3300732f",
   "metadata": {},
   "outputs": [
    {
     "data": {
      "text/plain": [
       "3.3333333333333335"
      ]
     },
     "execution_count": 6,
     "metadata": {},
     "output_type": "execute_result"
    }
   ],
   "source": [
    "200/60"
   ]
  },
  {
   "cell_type": "markdown",
   "id": "d686bbba-4c95-4b26-a134-cea924f934b8",
   "metadata": {},
   "source": [
    "## Author"
   ]
  },
  {
   "cell_type": "markdown",
   "id": "f6e48d9c-40b1-4ebd-9ff4-6f1ec64db337",
   "metadata": {},
   "source": [
    "Kaan Oğuzhan ALBAY"
   ]
  },
  {
   "cell_type": "code",
   "execution_count": null,
   "id": "83219e90-c6dd-4314-8f1e-802b80e3e6d0",
   "metadata": {},
   "outputs": [],
   "source": []
  }
 ],
 "metadata": {
  "kernelspec": {
   "display_name": "Python [conda env:RP_Env]",
   "language": "python",
   "name": "conda-env-RP_Env-py"
  },
  "language_info": {
   "codemirror_mode": {
    "name": "ipython",
    "version": 3
   },
   "file_extension": ".py",
   "mimetype": "text/x-python",
   "name": "python",
   "nbconvert_exporter": "python",
   "pygments_lexer": "ipython3",
   "version": "3.13.5"
  }
 },
 "nbformat": 4,
 "nbformat_minor": 5
}
